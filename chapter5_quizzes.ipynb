{
 "cells": [
  {
   "cell_type": "markdown",
   "id": "8f629b6a",
   "metadata": {},
   "source": [
    "Convert the following loop to list comprehension\n"
   ]
  },
  {
   "cell_type": "code",
   "execution_count": 3,
   "id": "37092f7c",
   "metadata": {},
   "outputs": [
    {
     "name": "stdout",
     "output_type": "stream",
     "text": [
      "[1, 3, 5, 7, 9, 11, 13, 15, 17, 19]\n"
     ]
    }
   ],
   "source": [
    "lst = []\n",
    "for x in range(10):\n",
    "    lst.append(2*x+1)\n",
    "print(lst)"
   ]
  },
  {
   "cell_type": "code",
   "execution_count": 2,
   "id": "a94bcaca",
   "metadata": {},
   "outputs": [
    {
     "name": "stdout",
     "output_type": "stream",
     "text": [
      "[1, 3, 5, 7, 9, 11, 13, 15, 17, 19]\n"
     ]
    }
   ],
   "source": [
    "lst1 = [2*x+1 for x in range(10)]\n",
    "print(lst1)"
   ]
  },
  {
   "cell_type": "markdown",
   "id": "93498819",
   "metadata": {},
   "source": [
    "Generate a dictionary from a list of first 10 numbers and it's square values using dictionary comprehension.\n",
    "\n",
    "Final value should be similar to: {1:1, 2:4, 3:9, 4:16, ..., 10, 100}\n",
    "\n",
    "\n"
   ]
  },
  {
   "cell_type": "code",
   "execution_count": 1,
   "id": "500c3b31",
   "metadata": {},
   "outputs": [
    {
     "name": "stdout",
     "output_type": "stream",
     "text": [
      "{1: 1, 2: 4, 3: 9, 4: 16, 5: 25, 6: 36, 7: 49, 8: 64, 9: 81, 10: 100}\n"
     ]
    }
   ],
   "source": [
    "dict_1 = {key: key**2 for key in range(1,11)}\n",
    "print(dict_1)"
   ]
  },
  {
   "cell_type": "markdown",
   "id": "33f43494",
   "metadata": {},
   "source": [
    "Create the following pattern using list comprehension, join() method, and others if needed. Try to solve in a single line or single statement."
   ]
  },
  {
   "cell_type": "code",
   "execution_count": 9,
   "id": "d5fea4a7",
   "metadata": {},
   "outputs": [
    {
     "name": "stdout",
     "output_type": "stream",
     "text": [
      "1\n",
      "1 2\n",
      "1 2 3\n",
      "1 2 3 4\n",
      "1 2 3 4 5\n"
     ]
    }
   ],
   "source": [
    "for i in range(1, 6):\n",
    "    print(\" \".join(str(j) for j in range(1, i + 1)))\n"
   ]
  },
  {
   "cell_type": "markdown",
   "id": "4eadb17b",
   "metadata": {},
   "source": [
    "A mathematical function is defined by y = 4x ** 2 + 3x - 6"
   ]
  },
  {
   "cell_type": "code",
   "execution_count": null,
   "id": "fd549fd3",
   "metadata": {},
   "outputs": [],
   "source": [
    "# Create a generator function to generate first 1000 integers starting from -100 and store to a variable y.\n"
   ]
  }
 ],
 "metadata": {
  "kernelspec": {
   "display_name": "Python (VSCode Notebook)",
   "language": "python",
   "name": "vscode-notebook-env"
  },
  "language_info": {
   "codemirror_mode": {
    "name": "ipython",
    "version": 3
   },
   "file_extension": ".py",
   "mimetype": "text/x-python",
   "name": "python",
   "nbconvert_exporter": "python",
   "pygments_lexer": "ipython3",
   "version": "3.13.4"
  }
 },
 "nbformat": 4,
 "nbformat_minor": 5
}
